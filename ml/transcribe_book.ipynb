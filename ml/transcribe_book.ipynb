{
 "cells": [
  {
   "cell_type": "code",
   "id": "initial_id",
   "metadata": {
    "collapsed": true,
    "ExecuteTime": {
     "end_time": "2024-09-18T19:24:25.480685Z",
     "start_time": "2024-09-18T19:24:23.004288Z"
    }
   },
   "source": [
    "# load dataset\n",
    "import os\n",
    "\n",
    "import torch\n",
    "\n",
    "device = torch.device(\"cuda\") if torch.cuda.is_available() else torch.device(\"cpu\")\n",
    "print('device is ', device)\n",
    "\n",
    "transcripts = {}\n",
    "\n",
    "with open('dataset/transcripts.txt', 'r') as file:\n",
    "    for line in file:\n",
    "        filename, transcription = line.split(' ', maxsplit=1)\n",
    "        transcripts[filename] = transcription.strip()\n",
    "\n",
    "training_dataset = {}\n",
    "testing_dataset = {}\n",
    "\n",
    "# filter training and testing dataset\n",
    "folder_path = 'dataset/Testing'\n",
    "\n",
    "testing = os.listdir(folder_path)\n",
    "\n",
    "from datasets import Audio, Dataset\n",
    "\n",
    "for filename in testing:\n",
    "    name, extension = os.path.splitext(filename)\n",
    "    transcript = transcripts[name]\n",
    "    testing_dataset[name] = transcript\n",
    "    transcripts.pop(name)\n",
    "\n",
    "training_dataset = transcripts\n",
    "\n",
    "assert len(os.listdir('dataset/Training')) == len(training_dataset)\n",
    "assert len(os.listdir('dataset/Testing')) == len(testing_dataset)\n"
   ],
   "outputs": [
    {
     "name": "stdout",
     "output_type": "stream",
     "text": [
      "device is  cuda\n"
     ]
    }
   ],
   "execution_count": 1
  },
  {
   "metadata": {
    "ExecuteTime": {
     "end_time": "2024-09-18T19:24:25.511523Z",
     "start_time": "2024-09-18T19:24:25.491750Z"
    }
   },
   "cell_type": "code",
   "source": [
    "# Convert to dataset\n",
    "def convert_dataset(audio_dir, dataset_dict):\n",
    "    filenames = list(dataset_dict.keys())\n",
    "    scripts = list(dataset_dict.values())\n",
    "\n",
    "    audio_paths = [f'{audio_dir}/{filen}.flac' for filen in filenames]\n",
    "    dataset = Dataset.from_dict({\n",
    "        \"audio\": audio_paths,\n",
    "        \"transcript\": scripts,\n",
    "        \"filename\": filenames\n",
    "    })\n",
    "\n",
    "    # Cast the audio column to Audio() type\n",
    "    dataset = dataset.cast_column(\"audio\", Audio(sampling_rate=16000))\n",
    "    return dataset\n",
    "\n",
    "\n",
    "training_dataset = convert_dataset('dataset/Training', training_dataset)\n",
    "testing_dataset = convert_dataset('dataset/Testing', testing_dataset)\n",
    "\n",
    "# print(training_dataset[\"audio\"][0]['path'])\n",
    "# print()"
   ],
   "id": "86d73addc30ef706",
   "outputs": [],
   "execution_count": 2
  },
  {
   "metadata": {
    "ExecuteTime": {
     "end_time": "2024-09-18T19:26:07.380090Z",
     "start_time": "2024-09-18T19:24:25.635600Z"
    }
   },
   "cell_type": "code",
   "source": [
    "from transformers import WhisperTokenizer, WhisperFeatureExtractor\n",
    "\n",
    "base_model = \"openai/whisper-medium\"\n",
    "\n",
    "feature_extractor = WhisperFeatureExtractor.from_pretrained(base_model)\n",
    "\n",
    "tokenizer = WhisperTokenizer.from_pretrained(base_model, language=\"English\", task=\"transcribe\")\n",
    "\n",
    "\n",
    "def prepare_dataset(batch):\n",
    "    # load and resample audio data from 48 to 16kHz\n",
    "    audio = batch[\"audio\"]\n",
    "\n",
    "    # compute log-Mel input features from input audio array\n",
    "    batch[\"input_features\"] = feature_extractor(audio[\"array\"], sampling_rate=audio[\"sampling_rate\"]).input_features[0]\n",
    "\n",
    "    # encode target text to label ids\n",
    "    batch[\"labels\"] = tokenizer(batch[\"transcript\"]).input_ids\n",
    "    return batch\n",
    "\n",
    "\n",
    "training_dataset = training_dataset.map(prepare_dataset, num_proc=1)\n",
    "testing_dataset = testing_dataset.map(prepare_dataset, num_proc=1)\n",
    "print('complete mapping')\n"
   ],
   "id": "93aed53e5a349f3d",
   "outputs": [
    {
     "data": {
      "text/plain": [
       "Map:   0%|          | 0/905 [00:00<?, ? examples/s]"
      ],
      "application/vnd.jupyter.widget-view+json": {
       "version_major": 2,
       "version_minor": 0,
       "model_id": "faf28f1122a9411281ea1599df04a1a1"
      }
     },
     "metadata": {},
     "output_type": "display_data"
    },
    {
     "data": {
      "text/plain": [
       "Map:   0%|          | 0/223 [00:00<?, ? examples/s]"
      ],
      "application/vnd.jupyter.widget-view+json": {
       "version_major": 2,
       "version_minor": 0,
       "model_id": "fbd55cc1135d41ea9da86d20905e6d46"
      }
     },
     "metadata": {},
     "output_type": "display_data"
    },
    {
     "name": "stdout",
     "output_type": "stream",
     "text": [
      "complete mapping\n"
     ]
    }
   ],
   "execution_count": 3
  },
  {
   "metadata": {
    "jupyter": {
     "is_executing": true
    },
    "ExecuteTime": {
     "start_time": "2024-09-18T19:26:07.468854Z"
    }
   },
   "cell_type": "code",
   "source": [
    "from transformers import WhisperProcessor, WhisperForConditionalGeneration\n",
    "import torch\n",
    "from typing import Any, Dict, List, Union\n",
    "\n",
    "\n",
    "class DataCollatorSpeechSeq2SeqWithPadding:\n",
    "    processor: Any\n",
    "    decoder_start_token_id: int\n",
    "\n",
    "    def __init__(self, processor, decoder_start_token_id):\n",
    "        self.processor = processor\n",
    "        self.decoder_start_token_id = decoder_start_token_id\n",
    "\n",
    "    def __call__(self, features: List[Dict[str, Union[List[int], torch.Tensor]]]) -> Dict[str, torch.Tensor]:\n",
    "        # split inputs and labels since they have to be of different lengths and need different padding methods\n",
    "        # first treat the audio inputs by simply returning torch tensors\n",
    "        input_features = [{\"input_features\": feature[\"input_features\"]} for feature in features]\n",
    "        batch = self.processor.feature_extractor.pad(input_features, return_tensors=\"pt\")\n",
    "\n",
    "        # get the tokenized label sequences\n",
    "        label_features = [{\"input_ids\": feature[\"labels\"]} for feature in features]\n",
    "        # pad the labels to max length\n",
    "        labels_batch = self.processor.tokenizer.pad(label_features, return_tensors=\"pt\")\n",
    "\n",
    "        # replace padding with -100 to ignore loss correctly\n",
    "        labels = labels_batch[\"input_ids\"].masked_fill(labels_batch.attention_mask.ne(1), -100)\n",
    "\n",
    "        # if bos token is appended in previous tokenization step,\n",
    "        # cut bos token here as it's append later anyways\n",
    "        if (labels[:, 0] == self.decoder_start_token_id).all().cpu().item():\n",
    "            labels = labels[:, 1:]\n",
    "\n",
    "        batch[\"labels\"] = labels\n",
    "\n",
    "        return batch\n",
    "\n",
    "\n",
    "processor = WhisperProcessor.from_pretrained(base_model, language=\"English\", task=\"transcribe\")\n",
    "\n",
    "model = WhisperForConditionalGeneration.from_pretrained(base_model)\n",
    "\n",
    "model.generation_config.language = \"English\"\n",
    "model.generation_config.task = \"transcribe\"\n",
    "\n",
    "model.generation_config.forced_decoder_ids = None\n",
    "\n",
    "data_collator = DataCollatorSpeechSeq2SeqWithPadding(\n",
    "    processor=processor,\n",
    "    decoder_start_token_id=model.config.decoder_start_token_id,\n",
    ")\n",
    "\n",
    "import evaluate\n",
    "\n",
    "metric = evaluate.load(\"wer\")\n",
    "\n",
    "\n",
    "def compute_metrics(pred):\n",
    "    pred_ids = pred.predictions\n",
    "    label_ids = pred.label_ids\n",
    "\n",
    "    # replace -100 with the pad_token_id\n",
    "    label_ids[label_ids == -100] = tokenizer.pad_token_id\n",
    "\n",
    "    # we do not want to group tokens when computing the metrics\n",
    "    pred_str = tokenizer.batch_decode(pred_ids, skip_special_tokens=True)\n",
    "    label_str = tokenizer.batch_decode(label_ids, skip_special_tokens=True)\n",
    "\n",
    "    wer = 100 * metric.compute(predictions=pred_str, references=label_str)\n",
    "\n",
    "    return {\"wer\": wer}\n",
    "\n",
    "\n",
    "from transformers import Seq2SeqTrainingArguments\n",
    "\n",
    "training_args = Seq2SeqTrainingArguments(\n",
    "    output_dir=\"./model/training\",  # change to a repo name of your choice\n",
    "    per_device_train_batch_size=16,\n",
    "    gradient_accumulation_steps=1,  # increase by 2x for every 2x decrease in batch size\n",
    "    learning_rate=1e-5,\n",
    "    warmup_steps=500,\n",
    "    max_steps=5000,\n",
    "    gradient_checkpointing=True,\n",
    "    fp16=True,\n",
    "    evaluation_strategy=\"steps\",\n",
    "    per_device_eval_batch_size=8,\n",
    "    predict_with_generate=True,\n",
    "    generation_max_length=225,\n",
    "    save_steps=1000,\n",
    "    eval_steps=1000,\n",
    "    logging_steps=25,\n",
    "    report_to=[\"tensorboard\"],\n",
    "    load_best_model_at_end=True,\n",
    "    metric_for_best_model=\"wer\",\n",
    "    greater_is_better=False,\n",
    "    push_to_hub=False,\n",
    ")\n",
    "\n",
    "from transformers import Seq2SeqTrainer\n",
    "\n",
    "trainer = Seq2SeqTrainer(\n",
    "    args=training_args,\n",
    "    model=model,\n",
    "    train_dataset=training_dataset,\n",
    "    eval_dataset=testing_dataset,\n",
    "    data_collator=data_collator,\n",
    "    compute_metrics=compute_metrics,\n",
    "    tokenizer=processor.feature_extractor,\n",
    ")\n",
    "\n",
    "processor.save_pretrained(training_args.output_dir)\n",
    "\n",
    "trainer.train()\n",
    "\n",
    "# save the model\n",
    "save_directory = \"model/whisper-finetuned\"\n",
    "import os\n",
    "\n",
    "os.makedirs(save_directory, exist_ok=True)\n",
    "\n",
    "trainer.save_model(save_directory)\n",
    "\n",
    "processor.save_pretrained(save_directory)\n"
   ],
   "id": "b89cf2903237f2a4",
   "outputs": [
    {
     "data": {
      "text/plain": [
       "config.json:   0%|          | 0.00/1.99k [00:00<?, ?B/s]"
      ],
      "application/vnd.jupyter.widget-view+json": {
       "version_major": 2,
       "version_minor": 0,
       "model_id": "3408e2927b4242fbb94fc23ea935ef80"
      }
     },
     "metadata": {},
     "output_type": "display_data"
    },
    {
     "data": {
      "text/plain": [
       "model.safetensors:   0%|          | 0.00/3.06G [00:00<?, ?B/s]"
      ],
      "application/vnd.jupyter.widget-view+json": {
       "version_major": 2,
       "version_minor": 0,
       "model_id": "176aee64604443709d8a69ed165841fc"
      }
     },
     "metadata": {},
     "output_type": "display_data"
    }
   ],
   "execution_count": null
  }
 ],
 "metadata": {
  "kernelspec": {
   "display_name": "Python 3",
   "language": "python",
   "name": "python3"
  },
  "language_info": {
   "codemirror_mode": {
    "name": "ipython",
    "version": 2
   },
   "file_extension": ".py",
   "mimetype": "text/x-python",
   "name": "python",
   "nbconvert_exporter": "python",
   "pygments_lexer": "ipython2",
   "version": "2.7.6"
  }
 },
 "nbformat": 4,
 "nbformat_minor": 5
}
